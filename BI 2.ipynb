{
 "cells": [
  {
   "cell_type": "code",
   "execution_count": 2,
   "id": "327a646a-2790-4084-94ed-a0881b93d634",
   "metadata": {},
   "outputs": [
    {
     "name": "stdout",
     "output_type": "stream",
     "text": [
      "Initial Data:\n",
      "        Control_1  Control_2  Treatment_1  Treatment_2\n",
      "Gene                                                  \n",
      "BRCA1         520        510          700          690\n",
      "TP53          180        175          210          205\n",
      "EGFR          350        340          500          510\n",
      "MYC           620        610          740          730\n",
      "PIK3CA        400        410          480          490\n",
      "AKT1          210        220          190          180\n",
      "PTEN          500        510          550          560\n",
      "KRAS          600        590          650          640\n",
      "NRAS          320        310          300          290\n",
      "CDK2          410        405          500          495\n"
     ]
    }
   ],
   "source": [
    "import pandas as pd\n",
    "import numpy as np\n",
    "import statsmodels.api as sm\n",
    "from statsmodels.stats.multitest import multipletests\n",
    "import matplotlib.pyplot as plt\n",
    "import seaborn as sns\n",
    "\n",
    "# Example RNA-Seq data (replace with actual dataset)\n",
    "data = {\n",
    "    'Gene': ['BRCA1', 'TP53', 'EGFR', 'MYC', 'PIK3CA', 'AKT1', 'PTEN', 'KRAS', 'NRAS', 'CDK2'],\n",
    "    'Control_1': [520, 180, 350, 620, 400, 210, 500, 600, 320, 410],\n",
    "    'Control_2': [510, 175, 340, 610, 410, 220, 510, 590, 310, 405],\n",
    "    'Treatment_1': [700, 210, 500, 740, 480, 190, 550, 650, 300, 500],\n",
    "    'Treatment_2': [690, 205, 510, 730, 490, 180, 560, 640, 290, 495]\n",
    "}\n",
    "\n",
    "# Convert the data to a DataFrame\n",
    "df = pd.DataFrame(data)\n",
    "df.set_index('Gene', inplace=True)\n",
    "\n",
    "# Preview the data\n",
    "print(\"Initial Data:\")\n",
    "print(df)"
   ]
  },
  {
   "cell_type": "code",
   "execution_count": 3,
   "id": "59cab0d8-6a40-4274-86fe-64dfdf54bc06",
   "metadata": {},
   "outputs": [
    {
     "name": "stdout",
     "output_type": "stream",
     "text": [
      "\n",
      "Differential Expression Results:\n",
      "     Gene  Fold_Change   P-value  Adj_P-value\n",
      "0   BRCA1     1.348866  0.001621     0.007047\n",
      "1    TP53     1.168098  0.013791     0.022986\n",
      "2    EGFR     1.462509  0.002114     0.007047\n",
      "3     MYC     1.194817  0.003518     0.008794\n",
      "4  PIK3CA     1.197072  0.007866     0.015731\n",
      "6    PTEN     1.098823  0.019515     0.024394\n",
      "7    KRAS     1.083898  0.019489     0.024394\n",
      "9    CDK2     1.220326  0.001575     0.007047\n"
     ]
    },
    {
     "name": "stderr",
     "output_type": "stream",
     "text": [
      "/tmp/ipykernel_9154/1476151348.py:26: FutureWarning: Series.__getitem__ treating keys as positions is deprecated. In a future version, integer keys will always be treated as labels (consistent with DataFrame behavior). To access a value by position, use `ser.iloc[pos]`\n",
      "  fold_change = 2 ** model.params[1]  # Convert log2 fold change back to linear scale\n",
      "/tmp/ipykernel_9154/1476151348.py:27: FutureWarning: Series.__getitem__ treating keys as positions is deprecated. In a future version, integer keys will always be treated as labels (consistent with DataFrame behavior). To access a value by position, use `ser.iloc[pos]`\n",
      "  p_value = model.pvalues[1]\n",
      "/tmp/ipykernel_9154/1476151348.py:26: FutureWarning: Series.__getitem__ treating keys as positions is deprecated. In a future version, integer keys will always be treated as labels (consistent with DataFrame behavior). To access a value by position, use `ser.iloc[pos]`\n",
      "  fold_change = 2 ** model.params[1]  # Convert log2 fold change back to linear scale\n",
      "/tmp/ipykernel_9154/1476151348.py:27: FutureWarning: Series.__getitem__ treating keys as positions is deprecated. In a future version, integer keys will always be treated as labels (consistent with DataFrame behavior). To access a value by position, use `ser.iloc[pos]`\n",
      "  p_value = model.pvalues[1]\n",
      "/tmp/ipykernel_9154/1476151348.py:26: FutureWarning: Series.__getitem__ treating keys as positions is deprecated. In a future version, integer keys will always be treated as labels (consistent with DataFrame behavior). To access a value by position, use `ser.iloc[pos]`\n",
      "  fold_change = 2 ** model.params[1]  # Convert log2 fold change back to linear scale\n",
      "/tmp/ipykernel_9154/1476151348.py:27: FutureWarning: Series.__getitem__ treating keys as positions is deprecated. In a future version, integer keys will always be treated as labels (consistent with DataFrame behavior). To access a value by position, use `ser.iloc[pos]`\n",
      "  p_value = model.pvalues[1]\n",
      "/tmp/ipykernel_9154/1476151348.py:26: FutureWarning: Series.__getitem__ treating keys as positions is deprecated. In a future version, integer keys will always be treated as labels (consistent with DataFrame behavior). To access a value by position, use `ser.iloc[pos]`\n",
      "  fold_change = 2 ** model.params[1]  # Convert log2 fold change back to linear scale\n",
      "/tmp/ipykernel_9154/1476151348.py:27: FutureWarning: Series.__getitem__ treating keys as positions is deprecated. In a future version, integer keys will always be treated as labels (consistent with DataFrame behavior). To access a value by position, use `ser.iloc[pos]`\n",
      "  p_value = model.pvalues[1]\n",
      "/tmp/ipykernel_9154/1476151348.py:26: FutureWarning: Series.__getitem__ treating keys as positions is deprecated. In a future version, integer keys will always be treated as labels (consistent with DataFrame behavior). To access a value by position, use `ser.iloc[pos]`\n",
      "  fold_change = 2 ** model.params[1]  # Convert log2 fold change back to linear scale\n",
      "/tmp/ipykernel_9154/1476151348.py:27: FutureWarning: Series.__getitem__ treating keys as positions is deprecated. In a future version, integer keys will always be treated as labels (consistent with DataFrame behavior). To access a value by position, use `ser.iloc[pos]`\n",
      "  p_value = model.pvalues[1]\n",
      "/tmp/ipykernel_9154/1476151348.py:26: FutureWarning: Series.__getitem__ treating keys as positions is deprecated. In a future version, integer keys will always be treated as labels (consistent with DataFrame behavior). To access a value by position, use `ser.iloc[pos]`\n",
      "  fold_change = 2 ** model.params[1]  # Convert log2 fold change back to linear scale\n",
      "/tmp/ipykernel_9154/1476151348.py:27: FutureWarning: Series.__getitem__ treating keys as positions is deprecated. In a future version, integer keys will always be treated as labels (consistent with DataFrame behavior). To access a value by position, use `ser.iloc[pos]`\n",
      "  p_value = model.pvalues[1]\n",
      "/tmp/ipykernel_9154/1476151348.py:26: FutureWarning: Series.__getitem__ treating keys as positions is deprecated. In a future version, integer keys will always be treated as labels (consistent with DataFrame behavior). To access a value by position, use `ser.iloc[pos]`\n",
      "  fold_change = 2 ** model.params[1]  # Convert log2 fold change back to linear scale\n",
      "/tmp/ipykernel_9154/1476151348.py:27: FutureWarning: Series.__getitem__ treating keys as positions is deprecated. In a future version, integer keys will always be treated as labels (consistent with DataFrame behavior). To access a value by position, use `ser.iloc[pos]`\n",
      "  p_value = model.pvalues[1]\n",
      "/tmp/ipykernel_9154/1476151348.py:26: FutureWarning: Series.__getitem__ treating keys as positions is deprecated. In a future version, integer keys will always be treated as labels (consistent with DataFrame behavior). To access a value by position, use `ser.iloc[pos]`\n",
      "  fold_change = 2 ** model.params[1]  # Convert log2 fold change back to linear scale\n",
      "/tmp/ipykernel_9154/1476151348.py:27: FutureWarning: Series.__getitem__ treating keys as positions is deprecated. In a future version, integer keys will always be treated as labels (consistent with DataFrame behavior). To access a value by position, use `ser.iloc[pos]`\n",
      "  p_value = model.pvalues[1]\n",
      "/tmp/ipykernel_9154/1476151348.py:26: FutureWarning: Series.__getitem__ treating keys as positions is deprecated. In a future version, integer keys will always be treated as labels (consistent with DataFrame behavior). To access a value by position, use `ser.iloc[pos]`\n",
      "  fold_change = 2 ** model.params[1]  # Convert log2 fold change back to linear scale\n",
      "/tmp/ipykernel_9154/1476151348.py:27: FutureWarning: Series.__getitem__ treating keys as positions is deprecated. In a future version, integer keys will always be treated as labels (consistent with DataFrame behavior). To access a value by position, use `ser.iloc[pos]`\n",
      "  p_value = model.pvalues[1]\n",
      "/tmp/ipykernel_9154/1476151348.py:26: FutureWarning: Series.__getitem__ treating keys as positions is deprecated. In a future version, integer keys will always be treated as labels (consistent with DataFrame behavior). To access a value by position, use `ser.iloc[pos]`\n",
      "  fold_change = 2 ** model.params[1]  # Convert log2 fold change back to linear scale\n",
      "/tmp/ipykernel_9154/1476151348.py:27: FutureWarning: Series.__getitem__ treating keys as positions is deprecated. In a future version, integer keys will always be treated as labels (consistent with DataFrame behavior). To access a value by position, use `ser.iloc[pos]`\n",
      "  p_value = model.pvalues[1]\n"
     ]
    }
   ],
   "source": [
    "conditions = ['Control', 'Control', 'Treatment', 'Treatment']\n",
    "df_log = np.log2(df + 1)\n",
    "\n",
    "results = []\n",
    "\n",
    "for gene in df_log.index:\n",
    "    y = df_log.loc[gene].values\n",
    "\n",
    "    # Ensure y is a float array\n",
    "    y = y.astype(float)\n",
    "\n",
    "    X = pd.get_dummies(conditions, drop_first=True)\n",
    "    X = sm.add_constant(X)\n",
    "\n",
    "    # Ensure X is numeric\n",
    "    X = X.apply(pd.to_numeric, errors='coerce').astype(float)\n",
    "\n",
    "    # Check for NaN values\n",
    "    if np.any(np.isnan(y)) or X.isnull().any().any():\n",
    "        print(f\"Skipping gene {gene} due to NaN values in input data.\")\n",
    "        continue\n",
    "\n",
    "    # Fit the model\n",
    "    model = sm.OLS(y, X).fit()\n",
    "\n",
    "    fold_change = 2 ** model.params[1]  # Convert log2 fold change back to linear scale\n",
    "    p_value = model.pvalues[1]\n",
    "    results.append([gene, fold_change, p_value])\n",
    "\n",
    "# Convert results to a DataFrame\n",
    "results_df = pd.DataFrame(results, columns=['Gene', 'Fold_Change', 'P-value'])\n",
    "results_df['Adj_P-value'] = multipletests(results_df['P-value'], method='fdr_bh')[1]\n",
    "\n",
    "# Filter significant results\n",
    "significant_results = results_df[results_df['Adj_P-value'] < 0.05]\n",
    "\n",
    "# Display results\n",
    "print(\"\\nDifferential Expression Results:\")\n",
    "print(significant_results)"
   ]
  },
  {
   "cell_type": "code",
   "execution_count": null,
   "id": "5dd72266-b60f-47d6-862d-f1936d0038d8",
   "metadata": {},
   "outputs": [],
   "source": []
  }
 ],
 "metadata": {
  "kernelspec": {
   "display_name": "Python 3 (ipykernel)",
   "language": "python",
   "name": "python3"
  },
  "language_info": {
   "codemirror_mode": {
    "name": "ipython",
    "version": 3
   },
   "file_extension": ".py",
   "mimetype": "text/x-python",
   "name": "python",
   "nbconvert_exporter": "python",
   "pygments_lexer": "ipython3",
   "version": "3.9.18"
  }
 },
 "nbformat": 4,
 "nbformat_minor": 5
}
